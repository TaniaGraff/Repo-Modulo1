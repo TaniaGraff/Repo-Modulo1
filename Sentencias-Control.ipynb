{
 "cells": [
  {
   "cell_type": "markdown",
   "metadata": {},
   "source": [
    "Pair Programming 4. Ejercicios de Sentencias de Control. If/else y bucles While."
   ]
  },
  {
   "cell_type": "markdown",
   "metadata": {},
   "source": [
    "Ejercicios if-else\n",
    "1. Verificar si un número es positivo, negativo o cero"
   ]
  },
  {
   "cell_type": "code",
   "execution_count": 1,
   "metadata": {},
   "outputs": [
    {
     "name": "stdout",
     "output_type": "stream",
     "text": [
      "positivo\n"
     ]
    }
   ],
   "source": [
    "#Dado un número, verifica si es positivo, negativo o cero.\n",
    "número = int(input(\"Dime un número\"))\n",
    "if número > 0:\n",
    "    print(\"positivo\")\n",
    "elif número == 0:\n",
    "    print(\"cero\")\n",
    "else:\n",
    "    print(\"negativo\")\n"
   ]
  },
  {
   "cell_type": "markdown",
   "metadata": {},
   "source": [
    "2. Verificar si un número es par o impar"
   ]
  },
  {
   "cell_type": "code",
   "execution_count": 2,
   "metadata": {},
   "outputs": [
    {
     "name": "stdout",
     "output_type": "stream",
     "text": [
      "par\n"
     ]
    }
   ],
   "source": [
    "#Descripción: Dado un número, verifica si es par o impar.\n",
    "if número % 2 == 0: \n",
    "    print(\"par\")\n",
    "else:\n",
    "    print(\"impar\")"
   ]
  },
  {
   "cell_type": "markdown",
   "metadata": {},
   "source": [
    "3. Verificar si un estudiante aprobó o suspendió un examen"
   ]
  },
  {
   "cell_type": "code",
   "execution_count": 3,
   "metadata": {},
   "outputs": [
    {
     "name": "stdout",
     "output_type": "stream",
     "text": [
      "suspendido\n"
     ]
    }
   ],
   "source": [
    "#Dada la calificación de un estudiante en un examen, verifica si aprobó o suspendió (si la calificación es mayor o igual a 60 se considera aprobado).\n",
    "calificación = float(input(\"¿Qué nota has sacado?\"))\n",
    "if calificación >= 6.0:\n",
    "    print(\"aprobado\")\n",
    "else: \n",
    "    print(\"suspendido\")"
   ]
  },
  {
   "cell_type": "markdown",
   "metadata": {},
   "source": [
    "4. Calcular el máximo entre dos números"
   ]
  },
  {
   "cell_type": "code",
   "execution_count": 10,
   "metadata": {},
   "outputs": [
    {
     "name": "stdout",
     "output_type": "stream",
     "text": [
      "El máximo entre 4 y 8 es 8\n"
     ]
    }
   ],
   "source": [
    "#Dados dos números, encuentra el máximo entre ellos.\n",
    "n1 = input(\"Escribe un número\")\n",
    "n2 = input(\"Escribe otro número\")          \n",
    "if n1 > n2 :\n",
    "    máximo = n1\n",
    "else:\n",
    "    máximo = n2\n",
    "    print(f\"El máximo entre\", n1, \"y\", n2, \"es\", máximo)\n"
   ]
  },
  {
   "cell_type": "markdown",
   "metadata": {},
   "source": [
    "5. Verificar si una letra es una vocal o una consonante"
   ]
  },
  {
   "cell_type": "code",
   "execution_count": 11,
   "metadata": {},
   "outputs": [
    {
     "name": "stdout",
     "output_type": "stream",
     "text": [
      "Es una vocal\n"
     ]
    }
   ],
   "source": [
    "#Dada una letra, verifica si es una vocal o una consonante.\n",
    "letra = input(\"Dime una letra\")\n",
    "vocales = [\"a\",\"e\",\"i\",\"o\",\"u\",\"A\",\"E\",\"I\",\"O\",\"U\"] \n",
    "if letra in vocales :\n",
    "    print(\"Es una vocal\")\n",
    "else:\n",
    "    print(\"Es una consonante\")"
   ]
  },
  {
   "cell_type": "markdown",
   "metadata": {},
   "source": [
    "6. Calcular el descuento en una compra según el monto total"
   ]
  },
  {
   "cell_type": "code",
   "execution_count": 12,
   "metadata": {},
   "outputs": [
    {
     "name": "stdout",
     "output_type": "stream",
     "text": [
      "100.0\n",
      "El descuento es de un 10.0\n"
     ]
    }
   ],
   "source": [
    "#Dado el monto total de una compra, calcula el descuento aplicado según las siguientes condiciones: si el monto es mayor o igual a $100, aplica un descuento del 10%; de lo contrario, no aplica ningún descuento.\n",
    "gasto = float(input(\"¿Cuánto has gastado en la pescadería?\"))\n",
    "if gasto >= 100:\n",
    "    print(gasto)\n",
    "    print(\"El descuento es de un\", gasto * 10/100)\n",
    "else:\n",
    "    print(\"No tienes ningún descuento\")"
   ]
  },
  {
   "cell_type": "markdown",
   "metadata": {},
   "source": [
    "7. Verificar si un año es bisiesto o no"
   ]
  },
  {
   "cell_type": "code",
   "execution_count": 13,
   "metadata": {},
   "outputs": [
    {
     "name": "stdout",
     "output_type": "stream",
     "text": [
      "No es un año bisiesto\n"
     ]
    }
   ],
   "source": [
    "#Dado un año, verifica si es bisiesto o no (un año es bisiesto si es divisible entre 4, excepto aquellos divisibles entre 100 pero no entre 400).\n",
    "año = int(input(\"Escribe un año\"))\n",
    "if año % 4 == 0 :\n",
    "    print (\"Es un año bisiesto\")\n",
    "elif año % 100 == 0 and año % 400 != 0:\n",
    "     print (\"Es un año bisiesto\")\n",
    "else:\n",
    "     print (\"No es un año bisiesto\")"
   ]
  },
  {
   "cell_type": "markdown",
   "metadata": {},
   "source": [
    "8. Asignar una categoría a una edad"
   ]
  },
  {
   "cell_type": "code",
   "execution_count": 14,
   "metadata": {},
   "outputs": [
    {
     "name": "stdout",
     "output_type": "stream",
     "text": [
      "Adulto\n"
     ]
    }
   ],
   "source": [
    "#Dada una edad, asigna una categoría según las siguientes condiciones: si la edad es menor de 18, la categoría es \"Menor de edad\"; si la edad está entre 18 y 64 (incluyendo ambos), la categoría es \"Adulto\"; de lo contrario, la categoría es \"Adulto mayor\".\n",
    "edad = int(input(\"Escribe tu edad\"))\n",
    "if edad < 18:\n",
    "    print(\"Menor de edad\")\n",
    "elif edad >= 18 and edad <= 65:\n",
    "    print(\"Adulto\")\n",
    "else:\n",
    "    print(\"Adulto Mayor\")"
   ]
  },
  {
   "cell_type": "markdown",
   "metadata": {},
   "source": [
    "9. Verificar si tres números forman un triángulo rectángulo"
   ]
  },
  {
   "cell_type": "code",
   "execution_count": 16,
   "metadata": {},
   "outputs": [
    {
     "name": "stdout",
     "output_type": "stream",
     "text": [
      "Los tres números no forman un triángulo rectángulo\n"
     ]
    }
   ],
   "source": [
    "#Dados tres números, verifica si forman un triángulo rectángulo (si se cumple el teorema de Pitágoras).\n",
    "a = int(input(\"Escribe un número a\"))\n",
    "b = int(input(\"Escribe un número b\"))\n",
    "c = int(input(\"Escribe un número c\"))\n",
    "if a**2 + b**2 == c**2:\n",
    "    print(\"Los tres números forman un triángulo rectángulo\")\n",
    "else:\n",
    "    print(\"Los tres números no forman un triángulo rectángulo\")\n"
   ]
  },
  {
   "cell_type": "markdown",
   "metadata": {},
   "source": [
    "10. Asignar una calificación a una puntuación"
   ]
  },
  {
   "cell_type": "code",
   "execution_count": 17,
   "metadata": {},
   "outputs": [
    {
     "name": "stdout",
     "output_type": "stream",
     "text": [
      "D\n"
     ]
    }
   ],
   "source": [
    "#Dada una puntuación, asigna una calificación según las siguientes condiciones: si la puntuación es mayor o igual a 90, la calificación es \"A\"; si es mayor o igual a 80, la calificación es \"B\"; si es mayor o igual a 70, la calificación es \"C\"; si es mayor o igual a 60, la calificación es \"D\"; de lo contrario, la calificación es \"F\".\n",
    "puntuación = float(input(\"Puntúa esta película del 1 al 10\"))\n",
    "if puntuación >= 9.0:\n",
    "    print(\"A\")\n",
    "elif puntuación >= 8.0:\n",
    "    print(\"B\")\n",
    "elif puntuación >= 7.0:\n",
    "    print(\"C\")\n",
    "elif puntuación >= 6.0:\n",
    "    print(\"D\")\n",
    "else:\n",
    "    print(\"F\")"
   ]
  },
  {
   "cell_type": "markdown",
   "metadata": {},
   "source": [
    "11. Calcular el índice de masa corporal (IMC) y categorizarlo"
   ]
  },
  {
   "cell_type": "code",
   "execution_count": 18,
   "metadata": {},
   "outputs": [
    {
     "name": "stdout",
     "output_type": "stream",
     "text": [
      "Tienes bajo peso\n"
     ]
    }
   ],
   "source": [
    "#Dados el peso (en kg) y la altura (en metros) de una persona, calcula su IMC y categorízalo según las siguientes condiciones: si el IMC es menor a 18.5, es \"Bajo peso\"; si está entre 18.5 y 24.9 (inclusive), es \"Peso normal\"; si está entre 25 y 29.9 (inclusive), es \"Sobrepeso\"; de lo contrario, es \"Obesidad\".\n",
    "peso = float(input(\"Para calcular tu Índice de Masa Corporal, necesito saber ¿cuánto pesas?\"))\n",
    "altura = float(input(\"y, ¿cuánto mides?\"))\n",
    "if peso / altura**2 < 18.5:\n",
    "    print(\"Tienes bajo peso\") \n",
    "elif peso / altura**2 >= 18.5 and peso / altura**2 <= 24.9:\n",
    "    print(\"Tienes un peso normal\")\n",
    "elif peso / altura**2 >= 25 and peso / altura**2 <=29.9:\n",
    "    print(\"Tienes sobrepeso\")\n",
    "else:\n",
    "    print(\"Tienes Obesidad\")"
   ]
  },
  {
   "cell_type": "markdown",
   "metadata": {},
   "source": [
    "12. Calcular el mayor de tres números"
   ]
  },
  {
   "cell_type": "code",
   "execution_count": 19,
   "metadata": {},
   "outputs": [
    {
     "name": "stdout",
     "output_type": "stream",
     "text": [
      "El número mayor es: 5\n"
     ]
    }
   ],
   "source": [
    "#Dados tres números, encuentra el mayor entre ellos.\n",
    "a = int(input(\"Escribe un número\"))\n",
    "b = int(input(\"Escribe un número\"))\n",
    "c = int(input(\"Escribe un número\"))\n",
    "if a != b and a != c and b != c :\n",
    "    if a > b or a > c :\n",
    "            print(\"El número mayor es:\", a)\n",
    "    else : \n",
    "        if b > a or b > c : \n",
    "                print(\"El número mayor es:\", b)\n",
    "else :\n",
    "        print(\"El número mayor es\", c)"
   ]
  },
  {
   "cell_type": "markdown",
   "metadata": {},
   "source": [
    "EJERCICIOS WHILE\n",
    "1. Calcular la suma de los primeros 10 números naturales utilizando un bucle while"
   ]
  },
  {
   "cell_type": "code",
   "execution_count": null,
   "metadata": {},
   "outputs": [
    {
     "name": "stdout",
     "output_type": "stream",
     "text": [
      "La suma es de 55\n"
     ]
    }
   ],
   "source": [
    "#Utiliza un bucle while para calcular la suma de los primeros 10 números naturales (1 + 2 + 3 + ... + 10).\n",
    "contador = 1\n",
    "suma = 0\n",
    "while contador <= 10 :\n",
    "    suma += contador \n",
    "    contador += 1\n",
    "\n",
    "print(\"La suma es de\", suma)"
   ]
  },
  {
   "cell_type": "markdown",
   "metadata": {},
   "source": [
    "2. Juego de adivinanza utilizando un bucle while"
   ]
  },
  {
   "cell_type": "code",
   "execution_count": 2,
   "metadata": {},
   "outputs": [
    {
     "name": "stdout",
     "output_type": "stream",
     "text": [
      "Vuelve a intentarlo\n",
      "Vuelve a intentarlo\n",
      "Vuelve a intentarlo\n",
      "Lo siento, el número secreto era 7\n"
     ]
    }
   ],
   "source": [
    "#Crea un juego de adivinanza en el que el jugador tiene que adivinar un número secreto (tendrá que ser entre el 0 y el 10). Utiliza un bucle while para permitir múltiples intentos hasta que el jugador adivine correctamente.\n",
    "número_secreto = 7\n",
    "intentos = 0 \n",
    "\n",
    "while intentos < 3 :\n",
    "    intento = (int(input(\"Entre 0 y 10, ¿adivina cuál es el número secreto?\")))\n",
    "    if intento == número_secreto:\n",
    "        print(\"Lo has adivinado\")\n",
    "        break\n",
    "    else:\n",
    "        intentos += 1  \n",
    "        print(\"Vuelve a intentarlo\")\n",
    "\n",
    "if intentos >= 3 :\n",
    "    print (\"Lo siento, el número secreto era\", número_secreto)"
   ]
  }
 ],
 "metadata": {
  "kernelspec": {
   "display_name": "base",
   "language": "python",
   "name": "python3"
  },
  "language_info": {
   "codemirror_mode": {
    "name": "ipython",
    "version": 3
   },
   "file_extension": ".py",
   "mimetype": "text/x-python",
   "name": "python",
   "nbconvert_exporter": "python",
   "pygments_lexer": "ipython3",
   "version": "3.11.5"
  }
 },
 "nbformat": 4,
 "nbformat_minor": 2
}
