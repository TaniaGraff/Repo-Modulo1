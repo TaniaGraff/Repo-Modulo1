{
 "cells": [
  {
   "cell_type": "markdown",
   "metadata": {},
   "source": [
    "Pair Programmin 3. Ejercicios Diccionarios y Sets"
   ]
  },
  {
   "cell_type": "markdown",
   "metadata": {},
   "source": [
    "EJERCICIOS DICCIONARIOS\n",
    "1. Crear un diccionario vacío"
   ]
  },
  {
   "cell_type": "code",
   "execution_count": 2,
   "metadata": {},
   "outputs": [
    {
     "data": {
      "text/plain": [
       "{}"
      ]
     },
     "execution_count": 2,
     "metadata": {},
     "output_type": "execute_result"
    }
   ],
   "source": [
    "#Crea un diccionario vacío sin ningún par clave-valor.\n",
    "diccionario1 = {}\n",
    "diccionario1"
   ]
  },
  {
   "cell_type": "markdown",
   "metadata": {},
   "source": [
    "2. Crear un diccionario con elementos "
   ]
  },
  {
   "cell_type": "code",
   "execution_count": 1,
   "metadata": {},
   "outputs": [
    {
     "name": "stdout",
     "output_type": "stream",
     "text": [
      "{'nombre': 'Pedro', 'primer apellido': 'González', 'segundo apellido': 'Pérez', 'estado civil': 'soltero', 'ciudad residencia': 'Madrid'}\n"
     ]
    }
   ],
   "source": [
    "#Crea un diccionario con pares clave-valor predefinidos. Definir el diccionario con las claves y valores que querais. NOTA El diccionario debe tener al menos 5 pares de clave:valor.\n",
    "persona1 = {\"nombre\":\"Pedro\", \"primer apellido\":\"González\", \"segundo apellido\":\"Pérez\", \"estado civil\": \"soltero\", \"ciudad residencia\": \"Madrid\"}\n",
    "print(persona1)"
   ]
  },
  {
   "cell_type": "markdown",
   "metadata": {},
   "source": [
    "3. Acceder al valor de una clave en un diccionario"
   ]
  },
  {
   "cell_type": "code",
   "execution_count": 2,
   "metadata": {},
   "outputs": [
    {
     "name": "stdout",
     "output_type": "stream",
     "text": [
      "edad\n",
      "None\n"
     ]
    }
   ],
   "source": [
    "#Usando el diccionario creado en el paso anterior, obtén el valor correspondiente a una clave específica que indique el usuario (debereis usar la función input() para preguntar al usuario).\n",
    "pregunta1 = input(\"¿Qué quieres saber?\")\n",
    "print(pregunta1)\n",
    "print(persona1.get(pregunta1))"
   ]
  },
  {
   "cell_type": "markdown",
   "metadata": {},
   "source": [
    "4. Agregar un nuevo par clave-valor a un diccionario"
   ]
  },
  {
   "cell_type": "code",
   "execution_count": 3,
   "metadata": {},
   "outputs": [
    {
     "name": "stdout",
     "output_type": "stream",
     "text": [
      "{'nombre': 'Pedro', 'primer apellido': 'González', 'segundo apellido': 'Pérez', 'estado civil': 'soltero', 'ciudad residencia': 'Madrid', 'altura': '1.79'}\n"
     ]
    }
   ],
   "source": [
    "#Usando el diccionario creado en el ejercicio 2, agrega un nuevo par clave-valor.\n",
    "persona1.update({\"altura\": \"1.79\"})\n",
    "print(persona1)"
   ]
  },
  {
   "cell_type": "markdown",
   "metadata": {},
   "source": [
    "5. Actualizar el valor de una clave en un diccionario"
   ]
  },
  {
   "cell_type": "code",
   "execution_count": 4,
   "metadata": {},
   "outputs": [
    {
     "data": {
      "text/plain": [
       "{'nombre': 'Pedro',\n",
       " 'primer apellido': 'González',\n",
       " 'segundo apellido': 'Pérez',\n",
       " 'estado civil': 'soltero',\n",
       " 'ciudad residencia': 'Barcelona',\n",
       " 'altura': '1.79'}"
      ]
     },
     "execution_count": 4,
     "metadata": {},
     "output_type": "execute_result"
    }
   ],
   "source": [
    "#Usando el diccionario creado en el ejercicio 2, actualiza el valor correspondiente a una clave existente.\n",
    "persona1[\"ciudad residencia\"] = \"Barcelona\"\n",
    "persona1"
   ]
  },
  {
   "cell_type": "markdown",
   "metadata": {},
   "source": [
    "6. Eliminar un par clave-valor de un diccionario"
   ]
  },
  {
   "cell_type": "code",
   "execution_count": 5,
   "metadata": {},
   "outputs": [
    {
     "name": "stdout",
     "output_type": "stream",
     "text": [
      "nombre\n"
     ]
    },
    {
     "data": {
      "text/plain": [
       "'Pedro'"
      ]
     },
     "execution_count": 5,
     "metadata": {},
     "output_type": "execute_result"
    }
   ],
   "source": [
    "#Usando el diccionario creado en el ejercicio 2, elimina un par clave-valor específico que indique el usuario (debereis usar la función input() para preguntar al usuario).\n",
    "pregunta2 = input(\"¿Qué quieres eliminar\")\n",
    "print(pregunta2)\n",
    "persona1.pop(pregunta2)\n"
   ]
  },
  {
   "cell_type": "markdown",
   "metadata": {},
   "source": [
    "7. Verificar si una clave está presente en un diccionario"
   ]
  },
  {
   "cell_type": "code",
   "execution_count": 6,
   "metadata": {},
   "outputs": [
    {
     "data": {
      "text/plain": [
       "{'primer apellido': 'González',\n",
       " 'segundo apellido': 'Pérez',\n",
       " 'estado civil': 'soltero',\n",
       " 'ciudad residencia': 'Barcelona',\n",
       " 'altura': '1.79',\n",
       " 'color de pelo': None}"
      ]
     },
     "execution_count": 6,
     "metadata": {},
     "output_type": "execute_result"
    }
   ],
   "source": [
    "#Usando el diccionario creado en el ejercicio 2, verifica si una clave específica está presente en él. La clave a buscar debe ser pasada por el usuario, debereis usar un input().\n",
    "pregunta3 = input(\"¿Qué quieres verificar?\")\n",
    "persona1.setdefault(pregunta3)\n",
    "persona1\n"
   ]
  },
  {
   "cell_type": "markdown",
   "metadata": {},
   "source": [
    "8. Obtener una lista de todas las claves de un diccionario"
   ]
  },
  {
   "cell_type": "code",
   "execution_count": 7,
   "metadata": {},
   "outputs": [
    {
     "data": {
      "text/plain": [
       "['primer apellido',\n",
       " 'segundo apellido',\n",
       " 'estado civil',\n",
       " 'ciudad residencia',\n",
       " 'altura',\n",
       " 'color de pelo']"
      ]
     },
     "execution_count": 7,
     "metadata": {},
     "output_type": "execute_result"
    }
   ],
   "source": [
    "#Usando el diccionario creado en el ejercicio 2, obtén una lista con todas las claves que contiene.\n",
    "list(persona1.keys())"
   ]
  },
  {
   "cell_type": "markdown",
   "metadata": {},
   "source": [
    "9. Obtener una lista de todos los valores de un diccionario"
   ]
  },
  {
   "cell_type": "code",
   "execution_count": 8,
   "metadata": {},
   "outputs": [
    {
     "data": {
      "text/plain": [
       "['González', 'Pérez', 'soltero', 'Barcelona', '1.79', None]"
      ]
     },
     "execution_count": 8,
     "metadata": {},
     "output_type": "execute_result"
    }
   ],
   "source": [
    "#Usando el diccionario creado en el ejercicio 2, obtén una lista con todos los valores que contiene.\n",
    "list(persona1.values())"
   ]
  },
  {
   "cell_type": "markdown",
   "metadata": {},
   "source": [
    "10. Utilizar el método setdefault() para establecer un valor predeterminado si la clave no existe"
   ]
  },
  {
   "cell_type": "code",
   "execution_count": 9,
   "metadata": {},
   "outputs": [
    {
     "data": {
      "text/plain": [
       "{'primer apellido': 'González',\n",
       " 'segundo apellido': 'Pérez',\n",
       " 'estado civil': 'soltero',\n",
       " 'ciudad residencia': 'Barcelona',\n",
       " 'altura': '1.79',\n",
       " 'color de pelo': None,\n",
       " 'mascota': 'gato'}"
      ]
     },
     "execution_count": 9,
     "metadata": {},
     "output_type": "execute_result"
    }
   ],
   "source": [
    "#Usando el diccionario creado en el ejercicio 2, obten el valor correspondiente a una clave. Si la clave no existe, establece un valor predeterminado y devuelve dicho valor.\n",
    "persona1.setdefault(\"mascota\", \"gato\")\n",
    "persona1"
   ]
  },
  {
   "cell_type": "markdown",
   "metadata": {},
   "source": [
    "11. Manipulación de un diccionario utilizando pop() y popitem()"
   ]
  },
  {
   "cell_type": "code",
   "execution_count": 11,
   "metadata": {},
   "outputs": [
    {
     "data": {
      "text/plain": [
       "{'primer apellido': 'González',\n",
       " 'estado civil': 'soltero',\n",
       " 'ciudad residencia': 'Barcelona',\n",
       " 'altura': '1.79',\n",
       " 'color de pelo': None}"
      ]
     },
     "execution_count": 11,
     "metadata": {},
     "output_type": "execute_result"
    }
   ],
   "source": [
    "#Usando el diccionario creado en el ejercicio 2, realiza operaciones de eliminación utilizando pop() y popitem(), y observa cómo afectan al diccionario.\n",
    "persona2 = persona1.copy()\n",
    "persona2.pop(\"segundo apellido\")\n",
    "persona2\n",
    "\n",
    "persona2.popitem()\n",
    "persona2"
   ]
  },
  {
   "cell_type": "markdown",
   "metadata": {},
   "source": [
    "EJERCICIOS SETS\n",
    "1. Crear un conjunto vacío"
   ]
  },
  {
   "cell_type": "code",
   "execution_count": 12,
   "metadata": {},
   "outputs": [],
   "source": [
    "#Crea un conjunto vacío sin ningún elemento.\n",
    "notas = {}"
   ]
  },
  {
   "cell_type": "markdown",
   "metadata": {},
   "source": [
    "2. Crear un conjunto con elementos"
   ]
  },
  {
   "cell_type": "code",
   "execution_count": 13,
   "metadata": {},
   "outputs": [
    {
     "data": {
      "text/plain": [
       "{'aceite', 'azúcar', 'harina', 'huevos', 'levadura', 'yogur'}"
      ]
     },
     "execution_count": 13,
     "metadata": {},
     "output_type": "execute_result"
    }
   ],
   "source": [
    "#Crea un conjunto con elementos predefinidos.\n",
    "receta = {\"harina\", \"yogur\", \"azúcar\", \"huevos\", \"aceite\", \"levadura\"}\n",
    "receta"
   ]
  },
  {
   "cell_type": "markdown",
   "metadata": {},
   "source": [
    "3. Agregar elementos a un conjunto"
   ]
  },
  {
   "cell_type": "code",
   "execution_count": 14,
   "metadata": {},
   "outputs": [
    {
     "data": {
      "text/plain": [
       "{'aceite',\n",
       " 'azúcar',\n",
       " 'cacao',\n",
       " 'harina',\n",
       " 'huevos',\n",
       " 'levadura',\n",
       " 'nata_montada',\n",
       " 'toppings',\n",
       " 'yogur'}"
      ]
     },
     "execution_count": 14,
     "metadata": {},
     "output_type": "execute_result"
    }
   ],
   "source": [
    "#Usando el set creado en el ejercicio 2, agrega nuevos elementos. Debereis agregar por separado:\n",
    "    #Un elemento solo\n",
    "receta.add(\"cacao\")\n",
    "receta\n",
    "    #Un par de elementos a la vez.\n",
    "receta.update(list([\"toppings\", \"nata_montada\"]))\n",
    "receta\n",
    "\n"
   ]
  },
  {
   "cell_type": "markdown",
   "metadata": {},
   "source": [
    "4. Eliminar un elemento de un conjunto"
   ]
  },
  {
   "cell_type": "code",
   "execution_count": 15,
   "metadata": {},
   "outputs": [
    {
     "data": {
      "text/plain": [
       "{'aceite',\n",
       " 'azúcar',\n",
       " 'cacao',\n",
       " 'harina',\n",
       " 'huevos',\n",
       " 'levadura',\n",
       " 'nata_montada',\n",
       " 'toppings'}"
      ]
     },
     "execution_count": 15,
     "metadata": {},
     "output_type": "execute_result"
    }
   ],
   "source": [
    "#Usando el set creado en el ejercicio 2, elimina un elemento especificado por el usuario.\n",
    "ingrediente_eliminado = input(\"¿Qué ingrediente quieres eliminar?\")\n",
    "ingrediente_eliminado\n",
    "receta.discard(ingrediente_eliminado)\n",
    "receta"
   ]
  },
  {
   "cell_type": "markdown",
   "metadata": {},
   "source": [
    "5. Verificar la pertenencia de un elemento en un conjunto"
   ]
  },
  {
   "cell_type": "code",
   "execution_count": 16,
   "metadata": {},
   "outputs": [
    {
     "data": {
      "text/plain": [
       "False"
      ]
     },
     "execution_count": 16,
     "metadata": {},
     "output_type": "execute_result"
    }
   ],
   "source": [
    "#Usando el set creado en el ejercicio 2, verifica si un elemento específico está presente en él.\n",
    "\"canela\" in receta"
   ]
  },
  {
   "cell_type": "markdown",
   "metadata": {},
   "source": [
    "6. Realizar una unión de conjuntos"
   ]
  },
  {
   "cell_type": "code",
   "execution_count": 17,
   "metadata": {},
   "outputs": [
    {
     "data": {
      "text/plain": [
       "{'aceite',\n",
       " 'azúcar',\n",
       " 'cacao',\n",
       " 'chocolate',\n",
       " 'harina',\n",
       " 'huevos',\n",
       " 'levadura',\n",
       " 'nata_líquida',\n",
       " 'nata_montada',\n",
       " 'sal',\n",
       " 'toppings'}"
      ]
     },
     "execution_count": 17,
     "metadata": {},
     "output_type": "execute_result"
    }
   ],
   "source": [
    "#Dados dos conjuntos, realiza una unión de ellos.\n",
    "receta2 = {\"sal\", \"chocolate\", \"harina\", \"azúcar\", \"nata_líquida\", \"huevos\"}\n",
    "receta2\n",
    "receta_postre = receta2.union(receta)\n",
    "receta_postre\n"
   ]
  },
  {
   "cell_type": "markdown",
   "metadata": {},
   "source": [
    "7. Realizar una intersección de conjuntos"
   ]
  },
  {
   "cell_type": "code",
   "execution_count": 19,
   "metadata": {},
   "outputs": [
    {
     "data": {
      "text/plain": [
       "{'azúcar', 'harina', 'huevos'}"
      ]
     },
     "execution_count": 19,
     "metadata": {},
     "output_type": "execute_result"
    }
   ],
   "source": [
    "#Usando dos conjuntos de datos definidos en el ejercicio anterior, realiza una intersección de ellos.\n",
    "receta_postre = receta.intersection(receta2)\n",
    "receta_postre"
   ]
  },
  {
   "cell_type": "markdown",
   "metadata": {},
   "source": [
    "8. Realizar una diferencia de conjuntos"
   ]
  },
  {
   "cell_type": "code",
   "execution_count": 20,
   "metadata": {},
   "outputs": [
    {
     "name": "stdout",
     "output_type": "stream",
     "text": [
      "{'nata_líquida', 'sal', 'chocolate'}\n"
     ]
    }
   ],
   "source": [
    "#Usando dos conjuntos de datos definidos en el ejercicio anterior, realiza una diferencia entre ellos.\n",
    "print(receta2.difference(receta))\n",
    "\n",
    "\n"
   ]
  },
  {
   "cell_type": "markdown",
   "metadata": {},
   "source": [
    "9. Verificar si un conjunto es subconjunto de otro"
   ]
  },
  {
   "cell_type": "code",
   "execution_count": 22,
   "metadata": {},
   "outputs": [
    {
     "name": "stdout",
     "output_type": "stream",
     "text": [
      "False\n",
      "True\n",
      "False\n",
      "True\n"
     ]
    }
   ],
   "source": [
    "#Dados dos conjuntos, verifica si uno es subconjunto del otro.\n",
    "print(receta_postre.issuperset(receta))\n",
    "print(receta.issuperset(receta_postre))\n",
    "print(receta.issubset(receta_postre))\n",
    "print(receta_postre.issubset(receta))\n",
    "\n"
   ]
  }
 ],
 "metadata": {
  "kernelspec": {
   "display_name": "base",
   "language": "python",
   "name": "python3"
  },
  "language_info": {
   "codemirror_mode": {
    "name": "ipython",
    "version": 3
   },
   "file_extension": ".py",
   "mimetype": "text/x-python",
   "name": "python",
   "nbconvert_exporter": "python",
   "pygments_lexer": "ipython3",
   "version": "3.11.5"
  }
 },
 "nbformat": 4,
 "nbformat_minor": 2
}
