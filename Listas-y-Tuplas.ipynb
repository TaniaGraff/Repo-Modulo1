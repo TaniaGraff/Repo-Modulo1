{
 "cells": [
  {
   "cell_type": "markdown",
   "metadata": {},
   "source": [
    "Pair Programming 2. Ejercicios de Lista y Tuplas"
   ]
  },
  {
   "cell_type": "markdown",
   "metadata": {},
   "source": [
    "1. Duplicar elementos de una lista"
   ]
  },
  {
   "cell_type": "code",
   "execution_count": 2,
   "metadata": {},
   "outputs": [
    {
     "name": "stdout",
     "output_type": "stream",
     "text": [
      "[2, 4, 6, 8, 2, 4, 6, 8]\n",
      "[2, 4, 6, 8, 2, 4, 6, 8]\n"
     ]
    }
   ],
   "source": [
    "#1_duplicar\n",
    "lista_1 = [2,4,6,8]\n",
    "print(lista_1 + lista_1)\n",
    "\n",
    "lista_1.extend(lista_1)\n",
    "print(lista_1)"
   ]
  },
  {
   "cell_type": "markdown",
   "metadata": {},
   "source": [
    "2. Combinar dos listas"
   ]
  },
  {
   "cell_type": "code",
   "execution_count": 4,
   "metadata": {},
   "outputs": [
    {
     "name": "stdout",
     "output_type": "stream",
     "text": [
      "[1, 2, 3, 4, 4, 5, 6]\n",
      "[1, 2, 3, 4, 4, 5, 6]\n"
     ]
    }
   ],
   "source": [
    "#3_combinar dos listas\n",
    "lista_1 = [1, 2, 3, 4]\n",
    "lista_2 = [4, 5, 6]\n",
    "print(lista_1 + lista_2)\n",
    "\n",
    "lista_1.extend(lista_2)\n",
    "print(lista_1)\n"
   ]
  },
  {
   "cell_type": "markdown",
   "metadata": {},
   "source": [
    "3. Calcular la suma de una lista de números"
   ]
  },
  {
   "cell_type": "code",
   "execution_count": 6,
   "metadata": {},
   "outputs": [
    {
     "name": "stdout",
     "output_type": "stream",
     "text": [
      "7\n",
      "25\n"
     ]
    }
   ],
   "source": [
    "print(len(lista_1))\n",
    "\n",
    "suma_de_lista_1 = sum(lista_1)\n",
    "print(suma_de_lista_1)"
   ]
  },
  {
   "cell_type": "markdown",
   "metadata": {},
   "source": [
    "4. Encontrar el valor máximo de una lista"
   ]
  },
  {
   "cell_type": "code",
   "execution_count": 7,
   "metadata": {},
   "outputs": [
    {
     "name": "stdout",
     "output_type": "stream",
     "text": [
      "6\n"
     ]
    }
   ],
   "source": [
    "print(max(lista_1))"
   ]
  },
  {
   "cell_type": "markdown",
   "metadata": {},
   "source": [
    "5. Calcular la longitud de una lista"
   ]
  },
  {
   "cell_type": "code",
   "execution_count": 8,
   "metadata": {},
   "outputs": [
    {
     "name": "stdout",
     "output_type": "stream",
     "text": [
      "7\n"
     ]
    }
   ],
   "source": [
    "print(len(lista_1))"
   ]
  },
  {
   "cell_type": "markdown",
   "metadata": {},
   "source": [
    "6. Encontrar el índice de un elemento en una lista"
   ]
  },
  {
   "cell_type": "code",
   "execution_count": 10,
   "metadata": {},
   "outputs": [
    {
     "data": {
      "text/plain": [
       "1"
      ]
     },
     "execution_count": 10,
     "metadata": {},
     "output_type": "execute_result"
    }
   ],
   "source": [
    "lista_1[0]"
   ]
  },
  {
   "cell_type": "markdown",
   "metadata": {},
   "source": [
    "7. Contar ocurrencias de un elemento en una lista"
   ]
  },
  {
   "cell_type": "code",
   "execution_count": 9,
   "metadata": {},
   "outputs": [
    {
     "data": {
      "text/plain": [
       "2"
      ]
     },
     "execution_count": 9,
     "metadata": {},
     "output_type": "execute_result"
    }
   ],
   "source": [
    "lista_1.count(4)"
   ]
  },
  {
   "cell_type": "markdown",
   "metadata": {},
   "source": [
    "8. Obtener una sublista de una lista"
   ]
  },
  {
   "cell_type": "code",
   "execution_count": 10,
   "metadata": {},
   "outputs": [
    {
     "name": "stdout",
     "output_type": "stream",
     "text": [
      "[3, 4, 4]\n"
     ]
    }
   ],
   "source": [
    "lista_1[:2:5]\n",
    "print(lista_1[2:5])"
   ]
  },
  {
   "cell_type": "markdown",
   "metadata": {},
   "source": [
    "9. Obtener el último elemento de una lista\n"
   ]
  },
  {
   "cell_type": "code",
   "execution_count": 11,
   "metadata": {},
   "outputs": [
    {
     "data": {
      "text/plain": [
       "6"
      ]
     },
     "execution_count": 11,
     "metadata": {},
     "output_type": "execute_result"
    }
   ],
   "source": [
    "lista_1[-1]\n"
   ]
  },
  {
   "cell_type": "markdown",
   "metadata": {},
   "source": [
    "10. Obtener el último de una lista"
   ]
  },
  {
   "cell_type": "code",
   "execution_count": 12,
   "metadata": {},
   "outputs": [
    {
     "data": {
      "text/plain": [
       "'lila'"
      ]
     },
     "execution_count": 12,
     "metadata": {},
     "output_type": "execute_result"
    }
   ],
   "source": [
    "colores = [\"azul\", \"blanco\", \"rojo\", \"lila\"]\n",
    "colores[-1]"
   ]
  },
  {
   "cell_type": "markdown",
   "metadata": {},
   "source": [
    "11. Obtener una sublista de una lista"
   ]
  },
  {
   "cell_type": "code",
   "execution_count": 13,
   "metadata": {},
   "outputs": [
    {
     "data": {
      "text/plain": [
       "['blanco', 'rojo']"
      ]
     },
     "execution_count": 13,
     "metadata": {},
     "output_type": "execute_result"
    }
   ],
   "source": [
    "colores[1:3]"
   ]
  },
  {
   "cell_type": "markdown",
   "metadata": {},
   "source": [
    "12. Remplazar un elemento en una lista"
   ]
  },
  {
   "cell_type": "code",
   "execution_count": 14,
   "metadata": {},
   "outputs": [
    {
     "name": "stdout",
     "output_type": "stream",
     "text": [
      "['azul', 'rojo', 'lila']\n",
      "['azul', 'naranja', 'rojo', 'lila']\n"
     ]
    }
   ],
   "source": [
    "colores = [\"azul\", \"blanco\", \"rojo\", \"lila\"]\n",
    "colores.remove(\"blanco\")\n",
    "print(colores)\n",
    "colores.insert(1, \"naranja\")\n",
    "print(colores)\n",
    "\n",
    "\n",
    "\n"
   ]
  },
  {
   "cell_type": "markdown",
   "metadata": {},
   "source": [
    "13. Obtener una lista inversa\n"
   ]
  },
  {
   "cell_type": "code",
   "execution_count": 15,
   "metadata": {},
   "outputs": [
    {
     "name": "stdout",
     "output_type": "stream",
     "text": [
      "['lila', 'rojo', 'naranja', 'azul']\n"
     ]
    }
   ],
   "source": [
    "colores.reverse()\n",
    "print(colores)\n"
   ]
  },
  {
   "cell_type": "markdown",
   "metadata": {},
   "source": [
    "14. Ordenar una lista en orden ascendente"
   ]
  },
  {
   "cell_type": "code",
   "execution_count": 16,
   "metadata": {},
   "outputs": [
    {
     "name": "stdout",
     "output_type": "stream",
     "text": [
      "['azul', 'lila', 'naranja', 'rojo']\n",
      "[1, 2, 3, 4, 4, 5, 6]\n",
      "['rojo', 'naranja', 'lila', 'azul']\n"
     ]
    }
   ],
   "source": [
    "colores.sort()\n",
    "print(colores)\n",
    "\n",
    "lista_1.sort()\n",
    "print(lista_1)\n",
    "\n",
    "colores.sort(reverse = True)\n",
    "print(colores)\n"
   ]
  },
  {
   "cell_type": "markdown",
   "metadata": {},
   "source": [
    "BONUS: Obtener elementos pares de una lista"
   ]
  },
  {
   "cell_type": "markdown",
   "metadata": {},
   "source": [
    "15. Obtener elementos pares de una lista"
   ]
  },
  {
   "cell_type": "code",
   "execution_count": 17,
   "metadata": {},
   "outputs": [
    {
     "name": "stdout",
     "output_type": "stream",
     "text": [
      "[1, 3, 4, 6]\n"
     ]
    }
   ],
   "source": [
    "lista_2 = lista_1 [0::2]\n",
    "print(lista_2)"
   ]
  },
  {
   "cell_type": "markdown",
   "metadata": {},
   "source": [
    "16. Obtener una sublista saltando elementos"
   ]
  },
  {
   "cell_type": "code",
   "execution_count": 29,
   "metadata": {},
   "outputs": [
    {
     "name": "stdout",
     "output_type": "stream",
     "text": [
      "[1, 4, 6]\n"
     ]
    }
   ],
   "source": [
    "lista_3 = lista_1 [::3]\n",
    "print(lista_3)"
   ]
  },
  {
   "cell_type": "markdown",
   "metadata": {},
   "source": [
    "17. Encontrar el segundo valor máximo de una lista"
   ]
  },
  {
   "cell_type": "code",
   "execution_count": 37,
   "metadata": {},
   "outputs": [
    {
     "name": "stdout",
     "output_type": "stream",
     "text": [
      "[1, 2, 3, 4, 4, 5, 6]\n"
     ]
    },
    {
     "data": {
      "text/plain": [
       "5"
      ]
     },
     "execution_count": 37,
     "metadata": {},
     "output_type": "execute_result"
    }
   ],
   "source": [
    "lista_1.sort()\n",
    "print(lista_1)\n",
    "lista_1[-2]"
   ]
  },
  {
   "cell_type": "markdown",
   "metadata": {},
   "source": [
    "18. ¿Qué diferencia hay entre .sort() y sorted()?\n",
    ".sort() cambia el orden de la lista y lo sobreescribe en la misma variable, mientras que la función sorted(), cambia el orden pero no lo sobreescribe en la variable. Para guardarlo necesitamos crear una nueva variable."
   ]
  },
  {
   "cell_type": "markdown",
   "metadata": {},
   "source": [
    "19. Agregar elementos utilizando .append() y .(extend)"
   ]
  },
  {
   "cell_type": "code",
   "execution_count": 85,
   "metadata": {},
   "outputs": [
    {
     "name": "stdout",
     "output_type": "stream",
     "text": [
      "['pan', 'huevos', 'leche', ['jabón', 'chocolate']]\n"
     ]
    }
   ],
   "source": [
    "compra_append = [\"pan\", \"huevos\", \"leche\"]\n",
    "compra_compañera = [\"jabón\", \"chocolate\"]\n",
    "compra_append.append(compra_compañera)\n",
    "print(compra_append)"
   ]
  },
  {
   "cell_type": "code",
   "execution_count": 88,
   "metadata": {},
   "outputs": [
    {
     "name": "stdout",
     "output_type": "stream",
     "text": [
      "['cebollas', 'patatas', 'huevos', 'mantequilla', 'jabón', 'chocolate']\n"
     ]
    }
   ],
   "source": [
    "compra_extend = [\"cebollas\", \"patatas\", \"huevos\", \"mantequilla\"]\n",
    "compra_extend.extend(compra_compañera)\n",
    "print(compra_extend)"
   ]
  },
  {
   "cell_type": "markdown",
   "metadata": {},
   "source": [
    "20. Insertar un elemento en una posición expecífica"
   ]
  },
  {
   "cell_type": "code",
   "execution_count": 102,
   "metadata": {},
   "outputs": [
    {
     "name": "stdout",
     "output_type": "stream",
     "text": [
      "3\n"
     ]
    }
   ],
   "source": [
    "print(input(\"¿En qué posición quieres incluir las peras dentro de la lista de la compra?\"))"
   ]
  },
  {
   "cell_type": "code",
   "execution_count": 104,
   "metadata": {},
   "outputs": [
    {
     "name": "stdout",
     "output_type": "stream",
     "text": [
      "['pan', 'huevos', 'leche', 'jabón', 'chocolate']\n",
      "['pan', 'huevos', 'leche', 'peras', 'jabón', 'chocolate']\n"
     ]
    }
   ],
   "source": [
    "compra = [\"pan\", \"huevos\", \"leche\", \"jabón\", \"chocolate\"]\n",
    "print(compra)\n",
    "compra.insert(3, \"peras\")\n",
    "print(compra)"
   ]
  },
  {
   "cell_type": "markdown",
   "metadata": {},
   "source": [
    "21. Verificar si un elemento está presente en una lista"
   ]
  },
  {
   "cell_type": "code",
   "execution_count": 105,
   "metadata": {},
   "outputs": [
    {
     "data": {
      "text/plain": [
       "False"
      ]
     },
     "execution_count": 105,
     "metadata": {},
     "output_type": "execute_result"
    }
   ],
   "source": [
    "\"manzanas\" in compra"
   ]
  },
  {
   "cell_type": "markdown",
   "metadata": {},
   "source": [
    "22. Manipulación de una lista utilizando .pop(), .remove(), .clear()"
   ]
  },
  {
   "cell_type": "code",
   "execution_count": 109,
   "metadata": {},
   "outputs": [
    {
     "name": "stdout",
     "output_type": "stream",
     "text": [
      "['pan', 'huevos', 'leche', 'peras', 'jabón', 'chocolate']\n",
      "['pan', 'huevos', 'leche', 'peras', 'jabón']\n",
      "['huevos', 'leche', 'peras', 'jabón']\n",
      "[]\n"
     ]
    }
   ],
   "source": [
    "copia_compra = compra.copy()\n",
    "print(copia_compra)\n",
    "copia_compra.remove(\"chocolate\")\n",
    "print(copia_compra)\n",
    "copia_compra.pop(0)\n",
    "print(copia_compra)\n",
    "copia_compra.clear()\n",
    "print(copia_compra)\n"
   ]
  },
  {
   "cell_type": "markdown",
   "metadata": {},
   "source": [
    "EJERCICIOS DE TUPLAS"
   ]
  },
  {
   "cell_type": "markdown",
   "metadata": {},
   "source": [
    "1. Acceder al primer elemento de una tupla"
   ]
  },
  {
   "cell_type": "code",
   "execution_count": 113,
   "metadata": {},
   "outputs": [
    {
     "name": "stdout",
     "output_type": "stream",
     "text": [
      "('jersey', 'pantalón', 'bufanda', 'camisa')\n"
     ]
    },
    {
     "data": {
      "text/plain": [
       "'jersey'"
      ]
     },
     "execution_count": 113,
     "metadata": {},
     "output_type": "execute_result"
    }
   ],
   "source": [
    "\n",
    "ropa = (\"jersey\", \"pantalón\", \"bufanda\", \"camisa\")\n",
    "print(ropa)\n",
    "ropa[0]\n"
   ]
  },
  {
   "cell_type": "markdown",
   "metadata": {},
   "source": [
    "2. Acceder al último elemento de una tupla"
   ]
  },
  {
   "cell_type": "code",
   "execution_count": 114,
   "metadata": {},
   "outputs": [
    {
     "data": {
      "text/plain": [
       "'camisa'"
      ]
     },
     "execution_count": 114,
     "metadata": {},
     "output_type": "execute_result"
    }
   ],
   "source": [
    "\n",
    "ropa [-1]"
   ]
  },
  {
   "cell_type": "markdown",
   "metadata": {},
   "source": [
    "3. Obtener la longitud de la tupla"
   ]
  },
  {
   "cell_type": "code",
   "execution_count": 115,
   "metadata": {},
   "outputs": [
    {
     "data": {
      "text/plain": [
       "4"
      ]
     },
     "execution_count": 115,
     "metadata": {},
     "output_type": "execute_result"
    }
   ],
   "source": [
    "len(ropa)"
   ]
  },
  {
   "cell_type": "markdown",
   "metadata": {},
   "source": [
    "4. Concatenar tuplas"
   ]
  },
  {
   "cell_type": "code",
   "execution_count": 117,
   "metadata": {},
   "outputs": [
    {
     "name": "stdout",
     "output_type": "stream",
     "text": [
      "('sombrero', 'bolso', 'pendientes', 'zapatillas', 'pendientes')\n",
      "('jersey', 'pantalón', 'bufanda', 'camisa', 'sombrero', 'bolso', 'pendientes', 'zapatillas', 'pendientes')\n"
     ]
    }
   ],
   "source": [
    "accesorios = (\"sombrero\", \"bolso\", \"pendientes\", \"zapatillas\", \"pendientes\")\n",
    "print(accesorios)\n",
    "conjunto = ropa + accesorios\n",
    "print(conjunto)\n",
    "\n",
    "\n",
    "\n",
    "\n"
   ]
  },
  {
   "cell_type": "markdown",
   "metadata": {},
   "source": [
    "5. Encontrar el índice de un elemento"
   ]
  },
  {
   "cell_type": "code",
   "execution_count": 120,
   "metadata": {},
   "outputs": [
    {
     "data": {
      "text/plain": [
       "'bufanda'"
      ]
     },
     "execution_count": 120,
     "metadata": {},
     "output_type": "execute_result"
    }
   ],
   "source": [
    "ropa [2]\n"
   ]
  },
  {
   "cell_type": "markdown",
   "metadata": {},
   "source": [
    "6. Contar ocurrencias de un elemento en una tupla"
   ]
  },
  {
   "cell_type": "code",
   "execution_count": 121,
   "metadata": {},
   "outputs": [
    {
     "data": {
      "text/plain": [
       "2"
      ]
     },
     "execution_count": 121,
     "metadata": {},
     "output_type": "execute_result"
    }
   ],
   "source": [
    "accesorios.count(\"pendientes\")"
   ]
  },
  {
   "cell_type": "markdown",
   "metadata": {},
   "source": [
    "7. Obtener una subtuple de una tuple"
   ]
  },
  {
   "cell_type": "code",
   "execution_count": 125,
   "metadata": {},
   "outputs": [
    {
     "data": {
      "text/plain": [
       "('pantalón', 'bufanda')"
      ]
     },
     "execution_count": 125,
     "metadata": {},
     "output_type": "execute_result"
    }
   ],
   "source": [
    "conjunto[1:3]"
   ]
  },
  {
   "cell_type": "markdown",
   "metadata": {},
   "source": [
    "8. Invertir una tupla"
   ]
  },
  {
   "cell_type": "code",
   "execution_count": 144,
   "metadata": {},
   "outputs": [
    {
     "name": "stdout",
     "output_type": "stream",
     "text": [
      "('jersey', 'pantalón', 'bufanda', 'camisa', 'sombrero', 'bolso', 'pendientes', 'zapatillas', 'pendientes')\n",
      "<class 'list'>\n",
      "['pendientes', 'zapatillas', 'pendientes', 'bolso', 'sombrero', 'camisa', 'bufanda', 'pantalón', 'jersey']\n"
     ]
    }
   ],
   "source": [
    "print(conjunto)\n",
    "conjunto_2 = list(conjunto)\n",
    "print(type(conjunto_2))\n",
    "conjunto_2.reverse()\n",
    "print(conjunto_2)\n"
   ]
  }
 ],
 "metadata": {
  "kernelspec": {
   "display_name": "base",
   "language": "python",
   "name": "python3"
  },
  "language_info": {
   "codemirror_mode": {
    "name": "ipython",
    "version": 3
   },
   "file_extension": ".py",
   "mimetype": "text/x-python",
   "name": "python",
   "nbconvert_exporter": "python",
   "pygments_lexer": "ipython3",
   "version": "3.11.5"
  }
 },
 "nbformat": 4,
 "nbformat_minor": 2
}
