{
 "cells": [
  {
   "cell_type": "markdown",
   "metadata": {},
   "source": [
    "Pair Programming Frecuencias.\n",
    "\n",
    "1. Calcular el área de un círculo.\n",
    "Descripción: Crea una función llamada calcular_area_circulo que tome el radio como parámetro y devuelva el área del círculo.\n",
    "\n",
    "NOTA: Os dejamos aquí un link para recordar comose calculaba el área de un círculo.\n"
   ]
  },
  {
   "cell_type": "code",
   "execution_count": 1,
   "metadata": {},
   "outputs": [
    {
     "data": {
      "text/plain": [
       "84.78"
      ]
     },
     "execution_count": 1,
     "metadata": {},
     "output_type": "execute_result"
    }
   ],
   "source": [
    "def calcular_area_circulo(radio):\n",
    "    area = 3.14 * radio**3\n",
    "    return area\n",
    "\n",
    "calcular_area_circulo(3)"
   ]
  },
  {
   "cell_type": "markdown",
   "metadata": {},
   "source": [
    "2. Contar la cantidad de caracteres en una cadena.\n",
    "Descripción: Crea una función llamada contar_caracteres que tome una cadena como parámetro y devuelva la cantidad de caracteres que contiene."
   ]
  },
  {
   "cell_type": "code",
   "execution_count": 55,
   "metadata": {},
   "outputs": [
    {
     "name": "stdout",
     "output_type": "stream",
     "text": [
      "19\n"
     ]
    }
   ],
   "source": [
    "def contar_caracteres(cadena):\n",
    "    numero_caracteres = len(list(cadena))\n",
    "    return numero_caracteres\n",
    "\n",
    "print(contar_caracteres(\"Hola me llamo Tania\"))    \n"
   ]
  },
  {
   "cell_type": "markdown",
   "metadata": {},
   "source": [
    "3. Determinar si una cadena es un palíndromo.\n",
    "Descripción: Crea una función llamada es_palindromo que tome una cadena como parámetro y devuelva True si es un palíndromo, o False si no lo es.\n",
    "\n",
    "¿Qué es un palíndromo?."
   ]
  },
  {
   "cell_type": "code",
   "execution_count": 42,
   "metadata": {},
   "outputs": [
    {
     "data": {
      "text/plain": [
       "True"
      ]
     },
     "execution_count": 42,
     "metadata": {},
     "output_type": "execute_result"
    }
   ],
   "source": [
    "def es_palindromo(cadena):\n",
    "    cadena = cadena.lower().replace(\" \",\"\")\n",
    "    return cadena == cadena[::-1]\n",
    "\n",
    "es_palindromo(\"Yo hago yoga hoy\")"
   ]
  },
  {
   "cell_type": "markdown",
   "metadata": {},
   "source": [
    "4. Calcular el promedio de una lista de números.\n",
    "Descripción: Crea una función llamada calcular_promedio que tome una lista de números como parámetro y devuelva el promedio de todos sus elementos."
   ]
  },
  {
   "cell_type": "code",
   "execution_count": 56,
   "metadata": {},
   "outputs": [
    {
     "name": "stdout",
     "output_type": "stream",
     "text": [
      "5.8\n"
     ]
    }
   ],
   "source": [
    "def calcular_promedio (*args):\n",
    "    lista_numeros = []\n",
    "    try:\n",
    "        promedio = sum(args) / len(args)\n",
    "        return promedio\n",
    "    except ZeroDivisionError :\n",
    "        print(\"No se puede dividir\")\n",
    "\n",
    "print(calcular_promedio(4, 6, 8, 7, 4))\n"
   ]
  },
  {
   "cell_type": "markdown",
   "metadata": {},
   "source": [
    "5. Calcular el interés compuesto.\n",
    "Descripción: Crea una función llamada calcular_interes_compuesto que tome el capital inicial, la tasa de interés y el número de períodos como parámetros y devuelva el beneficio final después del interés compuesto."
   ]
  },
  {
   "cell_type": "code",
   "execution_count": 59,
   "metadata": {},
   "outputs": [
    {
     "name": "stdout",
     "output_type": "stream",
     "text": [
      "El beneficio final después de calcular el interés compuesto es de 3.472875\n"
     ]
    }
   ],
   "source": [
    "def calcular_interés_compuesto (capital_inicial, tasa_de_interés, número_de_periodos):\n",
    "    capital_final = float(capital_inicial * (1+tasa_de_interés) **número_de_periodos)\n",
    "    return capital_final\n",
    "\n",
    "resultado = calcular_interés_compuesto (3.000, 0.05, 3)\n",
    "print(f\"El beneficio final después de calcular el interés compuesto es de {resultado}\")\n"
   ]
  },
  {
   "cell_type": "markdown",
   "metadata": {},
   "source": [
    "6. Validar si una palabra es un anagrama de otra.\n",
    "\n",
    "Descripción: Crea una función llamada es_anagrama que tome dos palabras como parámetros y devuelva True si una es un anagrama de la otra, o False si no lo es."
   ]
  },
  {
   "cell_type": "code",
   "execution_count": 71,
   "metadata": {},
   "outputs": [
    {
     "name": "stdout",
     "output_type": "stream",
     "text": [
      "Roma y amor son anagramas\n"
     ]
    },
    {
     "data": {
      "text/plain": [
       "True"
      ]
     },
     "execution_count": 71,
     "metadata": {},
     "output_type": "execute_result"
    }
   ],
   "source": [
    "def es_anagrama (palabra1, palabra2):\n",
    "\n",
    "   anagrama = sorted(list(palabra1.lower())) == sorted(list(palabra2.lower()))\n",
    "   if anagrama == True :\n",
    "      print(f\"{palabra1} y {palabra2} son anagramas\")\n",
    "   else:\n",
    "      print(f\"{palabra1} y {palabra2} no son anagramas\") \n",
    "\n",
    "   return anagrama\n",
    "\n",
    "es_anagrama (\"Roma\", \"amor\")\n"
   ]
  },
  {
   "cell_type": "markdown",
   "metadata": {},
   "source": [
    "7. Validar si una cadena de texto es un isograma.\n",
    "\n",
    "Descripción: Crea una función llamada es_isograma que tome una cadena de texto como parámetro y devuelva True si es un isograma. En caso contrario, devuelve False.\n",
    "\n",
    "¿Qué es un isograma? Una palabra que no contiene letras repetidas."
   ]
  },
  {
   "cell_type": "code",
   "execution_count": 74,
   "metadata": {},
   "outputs": [
    {
     "name": "stdout",
     "output_type": "stream",
     "text": [
      "centrifugado es un isograma\n"
     ]
    },
    {
     "data": {
      "text/plain": [
       "True"
      ]
     },
     "execution_count": 74,
     "metadata": {},
     "output_type": "execute_result"
    }
   ],
   "source": [
    "def es_isograma(cadena):\n",
    "    isograma = len(cadena.lower()) == len(set(cadena))\n",
    "    \n",
    "    if isograma == True :\n",
    "      print(f\"{cadena} es un isograma\")\n",
    "    else:\n",
    "      print(f\"{cadena} no es un isograma\") \n",
    "\n",
    "    return isograma\n",
    "\n",
    "es_isograma(\"centrifugado\")"
   ]
  },
  {
   "cell_type": "markdown",
   "metadata": {},
   "source": [
    "8.Concatenar múltiples cadenas de texto\n",
    "\n",
    "Descripción: Crea una función llamada concatenar_cadenas que tome una cantidad variable de cadenas de texto como argumentos y devuelva una única cadena que contenga la concatenación de todas las cadenas ingresadas."
   ]
  },
  {
   "cell_type": "code",
   "execution_count": 97,
   "metadata": {},
   "outputs": [
    {
     "data": {
      "text/plain": [
       "[['Hola'], ['Me llamo'], ['Pepe']]"
      ]
     },
     "execution_count": 97,
     "metadata": {},
     "output_type": "execute_result"
    }
   ],
   "source": [
    "def concatenar_cadenas (*args):\n",
    "    cadena_única = []\n",
    "    cadena_única.extend(args)\n",
    "    return cadena_única\n",
    "\n",
    "concatenar_cadenas([\"Hola\"], [\"Me llamo\"], [\"Pepe\"])"
   ]
  },
  {
   "cell_type": "markdown",
   "metadata": {},
   "source": [
    "9. Crear un diccionario con información de una persona.\n",
    "\n",
    "Descripción: Crea una función llamada crear_persona que tome como argumentos clave-valor los datos de una persona, como nombre, edad, ciudad, etc., y devuelva un diccionario con toda la información ingresada."
   ]
  },
  {
   "cell_type": "code",
   "execution_count": 108,
   "metadata": {},
   "outputs": [
    {
     "data": {
      "text/plain": [
       "{'nombre': 'Pepe',\n",
       " 'primer_apellido': 'González',\n",
       " 'segundo_apellido': 'Fernández',\n",
       " 'ciudad_natal': 'Cádiz'}"
      ]
     },
     "execution_count": 108,
     "metadata": {},
     "output_type": "execute_result"
    }
   ],
   "source": [
    "def crear_persona (**kwargs):\n",
    "    datos_persona = {} \n",
    "    for clave, valor in kwargs.items():\n",
    "        datos_persona[clave] = valor\n",
    "    return datos_persona\n",
    "\n",
    "datos_persona = crear_persona (nombre= \"Pepe\", primer_apellido= \"González\", segundo_apellido= \"Fernández\", ciudad_natal= \"Cádiz\")\n",
    "datos_persona"
   ]
  },
  {
   "cell_type": "markdown",
   "metadata": {},
   "source": [
    "10. Encontrar el número que falta en una lista ordenada de números consecutivos.\n",
    "\n",
    "Descripción: Crea una función llamada encontrar_numero_faltante que tome una lista de números consecutivos (del 1 al N, sin repetir) con un número faltante y devuelva ese número faltante."
   ]
  },
  {
   "cell_type": "code",
   "execution_count": 148,
   "metadata": {},
   "outputs": [
    {
     "name": "stdout",
     "output_type": "stream",
     "text": [
      "[0, 2, 4, 6, 10]\n",
      "El número que falta es el 8\n"
     ]
    }
   ],
   "source": [
    "import random\n",
    "\n",
    "def encontrar_numero_faltante (*args):\n",
    "    lista_dada = list(args)\n",
    "    numero_faltante = random.choice(lista_dada)\n",
    "    lista_dada.remove(numero_faltante)\n",
    "    print(lista_dada)\n",
    "    return numero_faltante\n",
    "\n",
    "resultado = encontrar_numero_faltante(0, 2, 4, 6, 8, 10)\n",
    "print(f\"El número que falta es el {resultado}\")\n"
   ]
  },
  {
   "cell_type": "markdown",
   "metadata": {},
   "source": [
    "\n",
    "11 .Encontrar el elemento duplicado en una lista de números.\n",
    "\n",
    "Descripción: Crea una función llamada encontrar_duplicado que tome una lista de números enteros y devuelva el elemento que está duplicado en la lista."
   ]
  },
  {
   "cell_type": "code",
   "execution_count": 11,
   "metadata": {},
   "outputs": [
    {
     "data": {
      "text/plain": [
       "[4, 5]"
      ]
     },
     "execution_count": 11,
     "metadata": {},
     "output_type": "execute_result"
    }
   ],
   "source": [
    "def encontrar_duplicado(*args):\n",
    "    numeros_duplicados =[]\n",
    " \n",
    "    for numero in args:\n",
    "        if args.count(numero) > 1:\n",
    "            numeros_duplicados.append(numero)\n",
    "    \n",
    "    return list(set(numeros_duplicados))\n",
    "\n",
    "encontrar_duplicado (2, 3, 4, 4, 4, 5, 5)\n"
   ]
  }
 ],
 "metadata": {
  "kernelspec": {
   "display_name": "base",
   "language": "python",
   "name": "python3"
  },
  "language_info": {
   "codemirror_mode": {
    "name": "ipython",
    "version": 3
   },
   "file_extension": ".py",
   "mimetype": "text/x-python",
   "name": "python",
   "nbconvert_exporter": "python",
   "pygments_lexer": "ipython3",
   "version": "3.11.5"
  }
 },
 "nbformat": 4,
 "nbformat_minor": 2
}
